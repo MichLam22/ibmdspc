{
 "cells": [
  {
   "cell_type": "markdown",
   "id": "a48519fd",
   "metadata": {},
   "source": [
    "# Data Science Tools and Ecosystem"
   ]
  },
  {
   "cell_type": "markdown",
   "id": "091384c0",
   "metadata": {},
   "source": [
    "In this notebook, Data Science Tools and Ecosystem are summarised."
   ]
  },
  {
   "cell_type": "markdown",
   "id": "cebe5100",
   "metadata": {},
   "source": [
    "Some of the popular languages that Data Scientists use are:\n",
    "1. Python\n",
    "2. R\n",
    "3. SQL\n",
    "4. Julia"
   ]
  },
  {
   "cell_type": "markdown",
   "id": "5726d2eb",
   "metadata": {},
   "source": [
    "Some of the commonly used libraries used by Data Scientists include:\n",
    "1. NumPy\n",
    "2. Pandas\n",
    "3. Matplotlib\n",
    "4. Seaborn"
   ]
  },
  {
   "cell_type": "markdown",
   "id": "f7ecd9b1",
   "metadata": {},
   "source": [
    "| Tool        | Description                               |\n",
    "|-------------|-------------------------------------------|\n",
    "| NumPy       | Numerical computing and array manipulation|\n",
    "| Pandas      | Data manipulation and analysis            |\n",
    "| Matplotlib  | Data visualization                        |\n",
    "| Seaborn     | Statistical data visualization            |"
   ]
  },
  {
   "cell_type": "markdown",
   "id": "57a502c9",
   "metadata": {},
   "source": [
    "### Below are a few examples of evaluating arithmetic expressions in Python\n",
    "\n",
    "- Addition: 2 + 3 = 5\n",
    "- Subtraction: 5 - 2 = 3\n",
    "- Multiplication: 2 * 3 = 6\n",
    "- Division: 6 / 2 = 3"
   ]
  },
  {
   "cell_type": "code",
   "execution_count": 7,
   "id": "8e272c3c",
   "metadata": {},
   "outputs": [
    {
     "data": {
      "text/plain": [
       "17"
      ]
     },
     "execution_count": 7,
     "metadata": {},
     "output_type": "execute_result"
    }
   ],
   "source": [
    "# This a simple arithmetic expression to mutiply then add integers.\n",
    "(3*4)+5"
   ]
  },
  {
   "cell_type": "code",
   "execution_count": 8,
   "id": "58c725e8",
   "metadata": {},
   "outputs": [
    {
     "name": "stdout",
     "output_type": "stream",
     "text": [
      "200 minutes is equal to 3.3333333333333335 hours.\n"
     ]
    }
   ],
   "source": [
    "# Conversion from minutes to hours\n",
    "minutes = 200\n",
    "hours = minutes / 60 # This will convert 200 minutes to hours by diving by 60\n",
    "print(minutes,\"minutes is equal to\", hours, \"hours.\")"
   ]
  },
  {
   "cell_type": "markdown",
   "id": "d4f737cb",
   "metadata": {},
   "source": [
    "**Objectives**\n",
    "\n",
    "- Demonstrate knowledge of Markdown syntax for formatting text and creating tables.\n",
    "- Perform basic arithmetic operations using Python.\n",
    "- Convert units of measurement in Python.\n",
    "- Share notebook via GitHub for collaborative work and grading."
   ]
  },
  {
   "cell_type": "markdown",
   "id": "98b260ed",
   "metadata": {},
   "source": [
    "## Author\n",
    "Michelle Lam"
   ]
  }
 ],
 "metadata": {
  "kernelspec": {
   "display_name": "Python 3 (ipykernel)",
   "language": "python",
   "name": "python3"
  },
  "language_info": {
   "codemirror_mode": {
    "name": "ipython",
    "version": 3
   },
   "file_extension": ".py",
   "mimetype": "text/x-python",
   "name": "python",
   "nbconvert_exporter": "python",
   "pygments_lexer": "ipython3",
   "version": "3.10.9"
  }
 },
 "nbformat": 4,
 "nbformat_minor": 5
}
